{
 "cells": [
  {
   "cell_type": "code",
   "execution_count": 49,
   "id": "3578131a",
   "metadata": {},
   "outputs": [],
   "source": [
    "import requests, json\n",
    "\n",
    "def get_bybit_price(symbol):\n",
    "    \"\"\"Get current spot price from Bybit\"\"\"\n",
    "    url = \"https://api.bybit.com/v5/market/tickers\"\n",
    "    params = {\"category\": \"spot\", \"symbol\": symbol}\n",
    "    response = requests.get(url, params=params)\n",
    "    data = response.json()\n",
    "    return float(data[\"result\"][\"list\"][0][\"lastPrice\"])\n"
   ]
  },
  {
   "cell_type": "code",
   "execution_count": 50,
   "id": "c3cbed46",
   "metadata": {},
   "outputs": [],
   "source": [
    "def get_jupiter_price(input_mint, output_mint, amount):\n",
    "    \"\"\"Get Jupiter price for one mint pair\"\"\"\n",
    "    url = \"https://lite-api.jup.ag/swap/v1/quote\"\n",
    "    params = {\n",
    "        \"inputMint\": input_mint,\n",
    "        \"outputMint\": output_mint,\n",
    "        \"amount\": amount\n",
    "    }\n",
    "\n",
    "    response = requests.get(url, params=params)\n",
    "    data = response.json()\n",
    "    \n",
    "    if \"error\" in data:\n",
    "        return None\n",
    "    else:\n",
    "        return int(data[\"outAmount\"]) / int(data[\"inAmount\"])\n"
   ]
  },
  {
   "cell_type": "code",
   "execution_count": 51,
   "id": "dfa31cf9",
   "metadata": {},
   "outputs": [
    {
     "name": "stdout",
     "output_type": "stream",
     "text": [
      "6.83\n",
      "[{'mint': '6p6xgHyF7AeE6TZkSmFsko444wqoP15icUSqi2jfGiPN', 'price': 6.8}]\n"
     ]
    }
   ],
   "source": [
    "def get_best_jupiter_price(bybit_symbol, amount):\n",
    "\n",
    "    with open(\"../files/monitor_pool.json\", \"r\") as f:\n",
    "        trading_pairs = json.load(f)\n",
    "\n",
    "    for pair in trading_pairs:\n",
    "        if pair[\"bybit_symbol\"] == bybit_symbol:\n",
    "            base_mints = pair[\"base_token\"][\"jupiter_mints\"]\n",
    "            quote_mint = pair[\"quote_token\"][\"jupiter_mints\"][0][\"mint\"]\n",
    "            \n",
    "            # Get all prices\n",
    "            results = []\n",
    "            for mint in base_mints:\n",
    "                price = get_jupiter_price(mint[\"mint\"], quote_mint, amount)\n",
    "                if price is not None:\n",
    "                    results.append({\"mint\": mint[\"mint\"], \"price\": price})\n",
    "            return results\n",
    "    \n",
    "    return []\n",
    "\n",
    "print(get_bybit_price(\"TRUMPUSDT\"))\n",
    "print(get_best_jupiter_price(\"TRUMPUSDT\", 10))"
   ]
  },
  {
   "cell_type": "code",
   "execution_count": 52,
   "id": "6f79e41a",
   "metadata": {},
   "outputs": [],
   "source": [
    "def get_matches(bybit_symbol):\n",
    "\n",
    "    with open(\"../files/monitor_pool.json\", \"r\") as f:\n",
    "        trading_pairs = json.load(f)\n",
    "\n",
    "    for pair in trading_pairs:\n",
    "        if pair[\"bybit_symbol\"] == bybit_symbol:\n",
    "            base_mints = pair[\"base_token\"][\"jupiter_mints\"]\n",
    "            quote_mint = pair[\"quote_token\"][\"jupiter_mints\"][0][\"mint\"]\n",
    "            \n",
    "            # Get all prices\n",
    "            results = []\n",
    "            for mint in base_mints:\n",
    "                results.append(mint[\"mint\"])\n",
    "            \n",
    "            return results\n",
    "    \n",
    "    return []"
   ]
  },
  {
   "cell_type": "code",
   "execution_count": 53,
   "id": "f760120d",
   "metadata": {},
   "outputs": [
    {
     "name": "stdout",
     "output_type": "stream",
     "text": [
      "['6p6xgHyF7AeE6TZkSmFsko444wqoP15icUSqi2jfGiPN', 'HaP8r3ksG76PhQLTqR8FYBeNiQpejcFbQmiHbg787Ut1', 'AwRErBEFGTnohzfLeRSBH9HddQEy2oeRxnWLrbvFFh95', '4h8LjZWUfUQVgbEZ29UzTuGXNW6rwrJis78ZU66ekkPV', 'BqhNdGtS1Nqtzi2MvZ7G8NN1vRuHZ12UpHGJKe71e1JT']\n",
      "6p6xgHyF7AeE6TZkSmFsko444wqoP15icUSqi2jfGiPN\n"
     ]
    },
    {
     "ename": "TypeError",
     "evalue": "get_jupiter_price() missing 1 required positional argument: 'amount'",
     "output_type": "error",
     "traceback": [
      "\u001b[31m---------------------------------------------------------------------------\u001b[39m",
      "\u001b[31mTypeError\u001b[39m                                 Traceback (most recent call last)",
      "\u001b[36mCell\u001b[39m\u001b[36m \u001b[39m\u001b[32mIn[53]\u001b[39m\u001b[32m, line 5\u001b[39m\n\u001b[32m      3\u001b[39m \u001b[38;5;28;01mfor\u001b[39;00m result \u001b[38;5;129;01min\u001b[39;00m results:\n\u001b[32m      4\u001b[39m     \u001b[38;5;28mprint\u001b[39m(result)\n\u001b[32m----> \u001b[39m\u001b[32m5\u001b[39m     \u001b[38;5;28mprint\u001b[39m(\u001b[43mget_jupiter_price\u001b[49m\u001b[43m(\u001b[49m\u001b[43mresult\u001b[49m\u001b[43m,\u001b[49m\u001b[33;43m'\u001b[39;49m\u001b[33;43mEs9vMFrzaCERmJfrF4H2FYD4KCoNkY11McCe8BenwNYB\u001b[39;49m\u001b[33;43m'\u001b[39;49m\u001b[43m)\u001b[49m)\n\u001b[32m      6\u001b[39m     \u001b[38;5;28mprint\u001b[39m(\u001b[33m'\u001b[39m\u001b[33m-\u001b[39m\u001b[33m'\u001b[39m*\u001b[32m10\u001b[39m)\n",
      "\u001b[31mTypeError\u001b[39m: get_jupiter_price() missing 1 required positional argument: 'amount'"
     ]
    }
   ],
   "source": [
    "results = get_matches('TRUMPUSDT')\n",
    "print(results)\n",
    "for result in results:\n",
    "    print(result)\n",
    "    print(get_jupiter_price(result,'Es9vMFrzaCERmJfrF4H2FYD4KCoNkY11McCe8BenwNYB'))\n",
    "    print('-'*10)"
   ]
  }
 ],
 "metadata": {
  "kernelspec": {
   "display_name": "venv",
   "language": "python",
   "name": "python3"
  },
  "language_info": {
   "codemirror_mode": {
    "name": "ipython",
    "version": 3
   },
   "file_extension": ".py",
   "mimetype": "text/x-python",
   "name": "python",
   "nbconvert_exporter": "python",
   "pygments_lexer": "ipython3",
   "version": "3.14.0"
  }
 },
 "nbformat": 4,
 "nbformat_minor": 5
}
